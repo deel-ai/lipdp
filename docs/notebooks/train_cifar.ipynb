{
 "cells": [
  {
   "attachments": {},
   "cell_type": "markdown",
   "metadata": {},
   "source": [
    "# CIFAR CLASSIFICATION"
   ]
  },
  {
   "attachments": {},
   "cell_type": "markdown",
   "metadata": {},
   "source": [
    "### Imports"
   ]
  },
  {
   "attachments": {},
   "cell_type": "markdown",
   "metadata": {},
   "source": [
    "We install tensorflow-addons to give an example of a user defined augmentation function that rotates the image to augment."
   ]
  },
  {
   "cell_type": "code",
   "execution_count": 1,
   "metadata": {},
   "outputs": [
    {
     "name": "stdout",
     "output_type": "stream",
     "text": [
      "Requirement already satisfied: tensorflow-addons in /home/thomas.massena/Code/DEBUG/dp-lipschitz/lipdp_dev_env/lib/python3.9/site-packages (0.20.0)\n",
      "Requirement already satisfied: packaging in /home/thomas.massena/Code/DEBUG/dp-lipschitz/lipdp_dev_env/lib/python3.9/site-packages (from tensorflow-addons) (23.1)\n",
      "Requirement already satisfied: typeguard<3.0.0,>=2.7 in /home/thomas.massena/Code/DEBUG/dp-lipschitz/lipdp_dev_env/lib/python3.9/site-packages (from tensorflow-addons) (2.13.3)\n"
     ]
    }
   ],
   "source": [
    "!pip install tensorflow-addons"
   ]
  },
  {
   "cell_type": "code",
   "execution_count": 2,
   "metadata": {},
   "outputs": [
    {
     "name": "stderr",
     "output_type": "stream",
     "text": [
      "2023-07-06 16:17:53.779587: I tensorflow/core/platform/cpu_feature_guard.cc:193] This TensorFlow binary is optimized with oneAPI Deep Neural Network Library (oneDNN) to use the following CPU instructions in performance-critical operations:  AVX2 FMA\n",
      "To enable them in other operations, rebuild TensorFlow with the appropriate compiler flags.\n",
      "2023-07-06 16:17:53.871941: E tensorflow/stream_executor/cuda/cuda_blas.cc:2981] Unable to register cuBLAS factory: Attempting to register factory for plugin cuBLAS when one has already been registered\n"
     ]
    },
    {
     "name": "stderr",
     "output_type": "stream",
     "text": [
      "2023-07-06 16:17:54.860938: W tensorflow/stream_executor/platform/default/dso_loader.cc:64] Could not load dynamic library 'libnvinfer.so.7'; dlerror: libnvinfer.so.7: cannot open shared object file: No such file or directory; LD_LIBRARY_PATH: /usr/local/cudnn/11.2-v8.1.0/cuda/lib64:/usr/local/cuda-11.2/lib64\n",
      "2023-07-06 16:17:54.860980: W tensorflow/stream_executor/platform/default/dso_loader.cc:64] Could not load dynamic library 'libnvinfer_plugin.so.7'; dlerror: libnvinfer_plugin.so.7: cannot open shared object file: No such file or directory; LD_LIBRARY_PATH: /usr/local/cudnn/11.2-v8.1.0/cuda/lib64:/usr/local/cuda-11.2/lib64\n",
      "2023-07-06 16:17:54.860985: W tensorflow/compiler/tf2tensorrt/utils/py_utils.cc:38] TF-TRT Warning: Cannot dlopen some TensorRT libraries. If you would like to use Nvidia GPU with TensorRT, please make sure the missing libraries mentioned above are installed properly.\n",
      "/home/thomas.massena/Code/DEBUG/dp-lipschitz/lipdp_dev_env/lib/python3.9/site-packages/tensorflow_addons/utils/tfa_eol_msg.py:23: UserWarning: \n",
      "\n",
      "TensorFlow Addons (TFA) has ended development and introduction of new features.\n",
      "TFA has entered a minimal maintenance and release mode until a planned end of life in May 2024.\n",
      "Please modify downstream libraries to take dependencies from other repositories in our TensorFlow community (e.g. Keras, Keras-CV, and Keras-NLP). \n",
      "\n",
      "For more information see: https://github.com/tensorflow/addons/issues/2807 \n",
      "\n",
      "  warnings.warn(\n",
      "/home/thomas.massena/Code/DEBUG/dp-lipschitz/lipdp_dev_env/lib/python3.9/site-packages/tqdm/auto.py:21: TqdmWarning: IProgress not found. Please update jupyter and ipywidgets. See https://ipywidgets.readthedocs.io/en/stable/user_install.html\n",
      "  from .autonotebook import tqdm as notebook_tqdm\n"
     ]
    }
   ],
   "source": [
    "import tensorflow as tf\n",
    "import tensorflow_addons as tfa \n",
    "import random \n",
    "\n",
    "import deel.lipdp.layers as DP_layers\n",
    "import deel.lipdp.losses as DP_losses\n",
    "from deel.lipdp.pipeline import bound_clip_value\n",
    "from deel.lipdp.pipeline import load_and_prepare_data\n",
    "from deel.lipdp.sensitivity import get_max_epochs\n",
    "from deel.lipdp.model import DP_Accountant\n",
    "from deel.lipdp.model import DP_Sequential\n",
    "from deel.lipdp.model import DPParameters\n",
    "from deel.lipdp.model import AdaptiveLossGradientClipping\n",
    "from functools import partial"
   ]
  },
  {
   "attachments": {},
   "cell_type": "markdown",
   "metadata": {},
   "source": [
    "### Loading the data :\n",
    "\n",
    "It is important to import the data with the right DP parameters to account properly for the privacy guarantees of the trained model. You can define augmentations with popular TensorFlow functions and the partial module from functools. Indeed, the given callables need to return an image output from an image input. Therefore, we use the partial module to create a callable that only has an image argument."
   ]
  },
  {
   "cell_type": "code",
   "execution_count": 3,
   "metadata": {},
   "outputs": [
    {
     "name": "stderr",
     "output_type": "stream",
     "text": [
      "2023-07-06 16:17:58.441464: I tensorflow/stream_executor/cuda/cuda_gpu_executor.cc:980] successful NUMA node read from SysFS had negative value (-1), but there must be at least one NUMA node, so returning NUMA node zero\n",
      "2023-07-06 16:17:58.448025: I tensorflow/stream_executor/cuda/cuda_gpu_executor.cc:980] successful NUMA node read from SysFS had negative value (-1), but there must be at least one NUMA node, so returning NUMA node zero\n",
      "2023-07-06 16:17:58.448475: I tensorflow/stream_executor/cuda/cuda_gpu_executor.cc:980] successful NUMA node read from SysFS had negative value (-1), but there must be at least one NUMA node, so returning NUMA node zero\n",
      "2023-07-06 16:17:58.449249: I tensorflow/core/platform/cpu_feature_guard.cc:193] This TensorFlow binary is optimized with oneAPI Deep Neural Network Library (oneDNN) to use the following CPU instructions in performance-critical operations:  AVX2 FMA\n",
      "To enable them in other operations, rebuild TensorFlow with the appropriate compiler flags.\n",
      "2023-07-06 16:17:58.449954: I tensorflow/stream_executor/cuda/cuda_gpu_executor.cc:980] successful NUMA node read from SysFS had negative value (-1), but there must be at least one NUMA node, so returning NUMA node zero\n",
      "2023-07-06 16:17:58.450411: I tensorflow/stream_executor/cuda/cuda_gpu_executor.cc:980] successful NUMA node read from SysFS had negative value (-1), but there must be at least one NUMA node, so returning NUMA node zero\n",
      "2023-07-06 16:17:58.450858: I tensorflow/stream_executor/cuda/cuda_gpu_executor.cc:980] successful NUMA node read from SysFS had negative value (-1), but there must be at least one NUMA node, so returning NUMA node zero\n",
      "2023-07-06 16:17:58.772482: I tensorflow/stream_executor/cuda/cuda_gpu_executor.cc:980] successful NUMA node read from SysFS had negative value (-1), but there must be at least one NUMA node, so returning NUMA node zero\n",
      "2023-07-06 16:17:58.772772: I tensorflow/stream_executor/cuda/cuda_gpu_executor.cc:980] successful NUMA node read from SysFS had negative value (-1), but there must be at least one NUMA node, so returning NUMA node zero\n",
      "2023-07-06 16:17:58.773013: I tensorflow/stream_executor/cuda/cuda_gpu_executor.cc:980] successful NUMA node read from SysFS had negative value (-1), but there must be at least one NUMA node, so returning NUMA node zero\n",
      "2023-07-06 16:17:58.773241: I tensorflow/core/common_runtime/gpu/gpu_device.cc:1616] Created device /job:localhost/replica:0/task:0/device:GPU:0 with 8038 MB memory:  -> device: 0, name: NVIDIA GeForce RTX 3080, pci bus id: 0000:01:00.0, compute capability: 8.6\n"
     ]
    }
   ],
   "source": [
    "augment = True \n",
    "\n",
    "# define new augmentation to apply on dataset\n",
    "def img_rotation(img, angle_max):\n",
    "    value_angle = angle_max * tf.random.uniform(shape=[], dtype=tf.dtypes.float32)\n",
    "    return tfa.image.rotate(img, value_angle)\n",
    "\n",
    "rotation = partial(img_rotation, angle_max=0.8)\n",
    "\n",
    "if augment : \n",
    "    augmentations = [\n",
    "        tf.image.flip_left_right,\n",
    "        rotation,\n",
    "    ]\n",
    "else : \n",
    "    augmentations = None \n",
    "    \n",
    "# load the dataset    \n",
    "ds_train, ds_test, dataset_metadata = load_and_prepare_data(\n",
    "    \"cifar10\",\n",
    "    batch_size=2048,\n",
    "    colorspace=\"HSV\",\n",
    "    augmentations=augmentations,\n",
    "    drop_remainder=True,  # accounting assumes fixed batch size\n",
    "    bound_fct=bound_clip_value(\n",
    "        15.0\n",
    "    ),  # clipping preprocessing allows to control input bound\n",
    ")"
   ]
  },
  {
   "attachments": {},
   "cell_type": "markdown",
   "metadata": {},
   "source": [
    "### Visualising the augmentations : \n",
    "\n",
    "All the augmented versions of the samples are stored in the same batch as the original image. This allows for correct DP leakage accounting. "
   ]
  },
  {
   "cell_type": "code",
   "execution_count": 4,
   "metadata": {},
   "outputs": [],
   "source": [
    "import matplotlib.pyplot as plt\n",
    "\n",
    "def plot_imgs(img1,img2, title=None):\n",
    "  plt.figure()\n",
    "  plt.subplot(121)\n",
    "  plt.imshow(tf.image.hsv_to_rgb(img1))\n",
    "  plt.title(\"Original\")\n",
    "  plt.subplot(122)\n",
    "  plt.imshow(tf.image.hsv_to_rgb(img2))\n",
    "  plt.title(title)"
   ]
  },
  {
   "cell_type": "code",
   "execution_count": 5,
   "metadata": {},
   "outputs": [
    {
     "data": {
      "image/png": "[encoded data removed]",
      "text/plain": [
       "<Figure size 640x480 with 2 Axes>"
      ]
     },
     "metadata": {},
     "output_type": "display_data"
    },
    {
     "data": {
      "image/png": "[encoded data removed]",
      "text/plain": [
       "<Figure size 640x480 with 2 Axes>"
      ]
     },
     "metadata": {},
     "output_type": "display_data"
    }
   ],
   "source": [
    "iterator = iter(ds_train)\n",
    "imgs,labels = iterator.get_next()\n",
    "N_image = 0\n",
    "plot_imgs(imgs[N_image],imgs[N_image+1], title=\"Augmentation 1\")\n",
    "plot_imgs(imgs[N_image],imgs[N_image+2], title=\"Augmentation 2\")"
   ]
  },
  {
   "attachments": {},
   "cell_type": "markdown",
   "metadata": {},
   "source": [
    "### IMPORTANT REMARK :"
   ]
  },
  {
   "attachments": {},
   "cell_type": "markdown",
   "metadata": {},
   "source": [
    "Please pay attention to the fact that the effective batch size in memory will be batch_size $\\times$ len(augmentations).\n",
    "\n",
    "Fortunately, the backpropagation's computation time on our framework is less sensitive to the batch size than for other frameworks : \n",
    "\n",
    "<img src=\"ressources/all_speed_curves.png\" alt=\"Speed curves with concurrent frameworks\" width=\"800\"/>"
   ]
  },
  {
   "attachments": {},
   "cell_type": "markdown",
   "metadata": {},
   "source": [
    "### Declaring the DP parameters :\n",
    "\n",
    "We also need to declare explicitly the parameters of the DP training process."
   ]
  },
  {
   "cell_type": "code",
   "execution_count": 6,
   "metadata": {},
   "outputs": [],
   "source": [
    "dp_parameters = DPParameters(\n",
    "    noisify_strategy=\"global\",\n",
    "    noise_multiplier=1.0,\n",
    "    delta=1e-5,\n",
    ")"
   ]
  },
  {
   "attachments": {},
   "cell_type": "markdown",
   "metadata": {},
   "source": [
    "### Defining the model :\n",
    "\n",
    "We use a simple convolutive network to classify on the MNIST dataset. We add a loss gradient clipping layer at the end of our network for more tightness on our gradient's upper bound. Therefore allowing for better results with one less hyperparameter to tune for dynamically chosen clipping constant. Also, as introduced in De et al. (2022). Averaging the gradient of multiple augmentations of the same sample before applying the gradient step proves beneficial and allows for faster convergence than classical data augmentations.\n",
    "\n",
    "For classical data augmentation define group_size = 1 on the clipping layer. This is the default setting.\n",
    "\n",
    "To use the averaged loss of individually augmented samples define group_size equal to the number of augmentations plus the original images (i.e len(augmentations)+1 )"
   ]
  },
  {
   "cell_type": "code",
   "execution_count": 7,
   "metadata": {},
   "outputs": [
    {
     "name": "stderr",
     "output_type": "stream",
     "text": [
      "/home/thomas.massena/Code/DEBUG/dp-lipschitz/lipdp_dev_env/lib/python3.9/site-packages/deel/lip/model.py:74: UserWarning: Sequential model contains a layer which is not a 1-Lipschitz layer: dp__bounded_input\n",
      "  warn(_msg_not_lip.format(layer.name))\n",
      "/home/thomas.massena/Code/DEBUG/dp-lipschitz/lipdp_dev_env/lib/python3.9/site-packages/deel/lip/model.py:74: UserWarning: Sequential model contains a layer which is not a 1-Lipschitz layer: dp__clip_gradient\n",
      "  warn(_msg_not_lip.format(layer.name))\n"
     ]
    }
   ],
   "source": [
    "if augment : \n",
    "    # define the number of identical images in the batch :\n",
    "    # 1 original image and it's N augmentations\n",
    "    group_size = len(augmentations) + 1\n",
    "else : \n",
    "    # default value\n",
    "    group_size = 1\n",
    "\n",
    "layers = [\n",
    "    DP_layers.DP_BoundedInput(\n",
    "        input_shape=dataset_metadata.input_shape,\n",
    "        upper_bound=dataset_metadata.max_norm,\n",
    "    ),\n",
    "    DP_layers.DP_SpectralConv2D(\n",
    "        filters=32, kernel_size=3, use_bias=False, kernel_initializer=\"orthogonal\"\n",
    "    ),\n",
    "    DP_layers.DP_Flatten(),\n",
    "    DP_layers.DP_SpectralDense(\n",
    "        units=512, use_bias=False, kernel_initializer=\"orthogonal\"\n",
    "    ),\n",
    "    DP_layers.DP_GroupSort(2),\n",
    "    DP_layers.DP_SpectralDense(\n",
    "        units=10, use_bias=False, kernel_initializer=\"orthogonal\"\n",
    "    ),\n",
    "    DP_layers.DP_ClipGradient(\n",
    "        epsilon=1, mode=\"dynamic_svt\", patience=5, group_size=group_size,\n",
    "    )\n",
    "]\n",
    "\n",
    "model = DP_Sequential(\n",
    "    layers=layers, dp_parameters=dp_parameters, dataset_metadata=dataset_metadata\n",
    ")\n",
    "\n",
    "loss = DP_losses.DP_TauCategoricalCrossentropy(tau=15.0)\n",
    "\n",
    "# The dp models are compatible with any kind of 1st order non-private optimizer : \n",
    "opt = tf.keras.optimizers.SGD(learning_rate=5e-3)\n",
    "\n",
    "model.compile(\n",
    "    loss=loss,\n",
    "    optimizer=opt,\n",
    "    metrics=[\"accuracy\"],\n",
    "    run_eagerly=False,\n",
    ")"
   ]
  },
  {
   "attachments": {},
   "cell_type": "markdown",
   "metadata": {},
   "source": [
    "### Define the desired DP guarantees :\n",
    "\n",
    "We compute the budget of epochs needed to yields the DP guarantees that you desire :"
   ]
  },
  {
   "cell_type": "code",
   "execution_count": 8,
   "metadata": {},
   "outputs": [
    {
     "name": "stderr",
     "output_type": "stream",
     "text": [
      "/home/thomas.massena/Code/DEBUG/dp-lipschitz/lipdp_dev_env/lib/python3.9/site-packages/scipy/optimize/_optimize.py:2769: RuntimeWarning: invalid value encountered in double_scalars\n",
      "  w = xb - ((xb - xc) * tmp2 - (xb - xa) * tmp1) / denom\n"
     ]
    },
    {
     "name": "stdout",
     "output_type": "stream",
     "text": [
      "epoch bounds = (0, 512.0) and epsilon = 119.24764619077938 at epoch 512.0\n",
      "epoch bounds = (0, 256.0) and epsilon = 65.38376084008976 at epoch 256.0\n",
      "epoch bounds = (0, 128.0) and epsilon = 37.42207695486333 at epoch 128.0\n",
      "epoch bounds = (0, 64.0) and epsilon = 22.4191073539189 at epoch 64.0\n",
      "epoch bounds = (0, 32.0) and epsilon = 13.667758618374233 at epoch 32.0\n",
      "epoch bounds = (0, 16.0) and epsilon = 8.74477520450819 at epoch 16.0\n",
      "epoch bounds = (8.0, 16.0) and epsilon = 5.55570807058713 at epoch 8.0\n",
      "epoch bounds = (12.0, 16.0) and epsilon = 7.150241634680869 at epoch 12.0\n",
      "epoch bounds = (14.0, 16.0) and epsilon = 7.499566792966371 at epoch 14.0\n",
      "epoch bounds = (14.0, 15.0) and epsilon = 8.57011263580801 at epoch 15.0\n"
     ]
    }
   ],
   "source": [
    "num_epochs = get_max_epochs(8.0, model)"
   ]
  },
  {
   "attachments": {},
   "cell_type": "markdown",
   "metadata": {},
   "source": [
    "### Train the model : \n",
    "\n",
    "The training process is called through the model.fit attribute. We use the following callbacks : \n",
    "\n",
    "- **DP_Accountant** (log_fn) : accounts for the privacy guarantees after each epoch of training (*log_fn* makes it compatible with W&B logging).\n",
    "- **DP_AdaptiveGradientClipping** (ds_train, patience) : automatically updates the losses's gradient clipping constant every *patience* steps. \n"
   ]
  },
  {
   "cell_type": "code",
   "execution_count": 9,
   "metadata": {},
   "outputs": [
    {
     "name": "stdout",
     "output_type": "stream",
     "text": [
      "On train begin : \n",
      "Initial value is now equal to lipschitz constant of loss:  tf.Tensor(1.4142135, shape=(), dtype=float32)\n",
      "Epoch 1/15\n"
     ]
    },
    {
     "name": "stderr",
     "output_type": "stream",
     "text": [
      "2023-07-06 16:18:08.847384: I tensorflow/stream_executor/cuda/cuda_blas.cc:1614] TensorFloat-32 will be used for the matrix multiplication. This will only be logged once.\n",
      "2023-07-06 16:18:09.328532: I tensorflow/stream_executor/cuda/cuda_dnn.cc:384] Loaded cuDNN version 8100\n"
     ]
    },
    {
     "name": "stdout",
     "output_type": "stream",
     "text": [
      "24/24 [==============================] - ETA: 0s - loss: 0.1532 - accuracy: 0.1625\n",
      " (2.2428887103238577, 1e-05)-DP guarantees for epoch 1 \n",
      "\n",
      "updated_clip_value :  1.023499905501249\n",
      "24/24 [==============================] - 10s 297ms/step - loss: 0.1532 - accuracy: 0.1625 - val_loss: 0.1424 - val_accuracy: 0.2142\n",
      "Epoch 2/15\n",
      "24/24 [==============================] - ETA: 0s - loss: 0.1407 - accuracy: 0.2242\n",
      " (2.723865775233616, 1e-05)-DP guarantees for epoch 2 \n",
      "\n",
      "24/24 [==============================] - 6s 213ms/step - loss: 0.1407 - accuracy: 0.2242 - val_loss: 0.1367 - val_accuracy: 0.2574\n",
      "Epoch 3/15\n",
      "24/24 [==============================] - ETA: 0s - loss: 0.1366 - accuracy: 0.2547\n",
      " (3.0530029334114603, 1e-05)-DP guarantees for epoch 3 \n",
      "\n",
      "24/24 [==============================] - 6s 217ms/step - loss: 0.1366 - accuracy: 0.2547 - val_loss: 0.1336 - val_accuracy: 0.2761\n",
      "Epoch 4/15\n",
      "24/24 [==============================] - ETA: 0s - loss: 0.1340 - accuracy: 0.2738\n",
      " (3.3197611270015326, 1e-05)-DP guarantees for epoch 4 \n",
      "\n",
      "24/24 [==============================] - 6s 217ms/step - loss: 0.1340 - accuracy: 0.2738 - val_loss: 0.1312 - val_accuracy: 0.2964\n",
      "Epoch 5/15\n",
      "24/24 [==============================] - ETA: 0s - loss: 0.1321 - accuracy: 0.2878\n",
      " (4.508234758728505, 1e-05)-DP guarantees for epoch 5 \n",
      "\n",
      "24/24 [==============================] - 6s 217ms/step - loss: 0.1321 - accuracy: 0.2878 - val_loss: 0.1297 - val_accuracy: 0.3059\n",
      "Epoch 6/15\n",
      "24/24 [==============================] - ETA: 0s - loss: 0.1308 - accuracy: 0.2964\n",
      " (4.774992952173545, 1e-05)-DP guarantees for epoch 6 \n",
      "\n",
      "updated_clip_value :  1.0433187141831544\n",
      "24/24 [==============================] - 8s 285ms/step - loss: 0.1308 - accuracy: 0.2964 - val_loss: 0.1282 - val_accuracy: 0.3119\n",
      "Epoch 7/15\n",
      "24/24 [==============================] - ETA: 0s - loss: 0.1297 - accuracy: 0.3045\n",
      " (5.041751151526228, 1e-05)-DP guarantees for epoch 7 \n",
      "\n",
      "24/24 [==============================] - 6s 218ms/step - loss: 0.1297 - accuracy: 0.3045 - val_loss: 0.1282 - val_accuracy: 0.3195\n",
      "Epoch 8/15\n",
      "24/24 [==============================] - ETA: 0s - loss: 0.1288 - accuracy: 0.3119\n",
      " (5.30850934235078, 1e-05)-DP guarantees for epoch 8 \n",
      "\n",
      "24/24 [==============================] - 6s 218ms/step - loss: 0.1288 - accuracy: 0.3119 - val_loss: 0.1260 - val_accuracy: 0.3289\n",
      "Epoch 9/15\n",
      "24/24 [==============================] - ETA: 0s - loss: 0.1282 - accuracy: 0.3162\n",
      " (5.55570807058713, 1e-05)-DP guarantees for epoch 9 \n",
      "\n",
      "24/24 [==============================] - 6s 218ms/step - loss: 0.1282 - accuracy: 0.3162 - val_loss: 0.1258 - val_accuracy: 0.3301\n",
      "Epoch 10/15\n",
      "24/24 [==============================] - ETA: 0s - loss: 0.1276 - accuracy: 0.3195\n",
      " (6.626253911877027, 1e-05)-DP guarantees for epoch 10 \n",
      "\n",
      "24/24 [==============================] - 6s 220ms/step - loss: 0.1276 - accuracy: 0.3195 - val_loss: 0.1250 - val_accuracy: 0.3376\n",
      "Epoch 11/15\n",
      "24/24 [==============================] - ETA: 0s - loss: 0.1270 - accuracy: 0.3220\n",
      " (6.800916489534693, 1e-05)-DP guarantees for epoch 11 \n",
      "\n",
      "updated_clip_value :  1.0489812309494129\n",
      "24/24 [==============================] - 8s 288ms/step - loss: 0.1270 - accuracy: 0.3220 - val_loss: 0.1247 - val_accuracy: 0.3376\n",
      "Epoch 12/15\n",
      "24/24 [==============================] - ETA: 0s - loss: 0.1265 - accuracy: 0.3249\n",
      " (6.975579076666273, 1e-05)-DP guarantees for epoch 12 \n",
      "\n",
      "24/24 [==============================] - 6s 215ms/step - loss: 0.1265 - accuracy: 0.3249 - val_loss: 0.1243 - val_accuracy: 0.3445\n",
      "Epoch 13/15\n",
      "24/24 [==============================] - ETA: 0s - loss: 0.1262 - accuracy: 0.3267\n",
      " (7.150241634680869, 1e-05)-DP guarantees for epoch 13 \n",
      "\n",
      "24/24 [==============================] - 6s 220ms/step - loss: 0.1262 - accuracy: 0.3267 - val_loss: 0.1238 - val_accuracy: 0.3457\n",
      "Epoch 14/15\n",
      "24/24 [==============================] - ETA: 0s - loss: 0.1257 - accuracy: 0.3306\n",
      " (7.32490421160406, 1e-05)-DP guarantees for epoch 14 \n",
      "\n",
      "24/24 [==============================] - 6s 219ms/step - loss: 0.1257 - accuracy: 0.3306 - val_loss: 0.1235 - val_accuracy: 0.3523\n",
      "Epoch 15/15\n",
      "24/24 [==============================] - ETA: 0s - loss: 0.1255 - accuracy: 0.3315\n",
      " (8.395450047341093, 1e-05)-DP guarantees for epoch 15 \n",
      "\n",
      "24/24 [==============================] - 6s 219ms/step - loss: 0.1255 - accuracy: 0.3315 - val_loss: 0.1226 - val_accuracy: 0.3513\n"
     ]
    }
   ],
   "source": [
    "callbacks = [\n",
    "    DP_Accountant(log_fn=\"logging\"),\n",
    "    AdaptiveLossGradientClipping(\n",
    "        ds_train=ds_train\n",
    "    ),  # DO NOT USE THIS CALLBACK WHEN mode != \"dynamic_svt\"\n",
    "]\n",
    "\n",
    "hist = model.fit(\n",
    "    ds_train,\n",
    "    epochs=num_epochs,\n",
    "    validation_data=ds_test,\n",
    "    callbacks=callbacks,\n",
    ")"
   ]
  },
  {
   "attachments": {},
   "cell_type": "markdown",
   "metadata": {},
   "source": [
    "### "
   ]
  }
 ],
 "metadata": {
  "kernelspec": {
   "display_name": "lipdp_dev_env",
   "language": "python",
   "name": "python3"
  },
  "language_info": {
   "codemirror_mode": {
    "name": "ipython",
    "version": 3
   },
   "file_extension": ".py",
   "mimetype": "text/x-python",
   "name": "python",
   "nbconvert_exporter": "python",
   "pygments_lexer": "ipython3",
   "version": "3.9.5"
  },
  "orig_nbformat": 4
 },
 "nbformat": 4,
 "nbformat_minor": 2
}
