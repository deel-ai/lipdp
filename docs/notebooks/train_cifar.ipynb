{
 "cells": [
  {
   "attachments": {},
   "cell_type": "markdown",
   "metadata": {},
   "source": [
    "# CIFAR CLASSIFICATION"
   ]
  },
  {
   "attachments": {},
   "cell_type": "markdown",
   "metadata": {},
   "source": [
    "### Imports"
   ]
  },
  {
   "cell_type": "code",
   "execution_count": 20,
   "metadata": {},
   "outputs": [],
   "source": [
    "import tensorflow as tf\n",
    "\n",
    "import deel.lipdp.layers as DP_layers\n",
    "import deel.lipdp.losses as DP_losses\n",
    "from deel.lipdp.pipeline import bound_clip_value\n",
    "from deel.lipdp.pipeline import load_and_prepare_data\n",
    "from deel.lipdp.sensitivity import get_max_epochs\n",
    "from deel.lipdp.model import DP_Accountant\n",
    "from deel.lipdp.model import DP_Sequential\n",
    "from deel.lipdp.model import DPParameters\n",
    "from deel.lipdp.model import AdaptiveLossGradientClipping"
   ]
  },
  {
   "attachments": {},
   "cell_type": "markdown",
   "metadata": {},
   "source": [
    "### Loading the data :\n",
    "\n",
    "It is important to import the data with the right DP parameters to account properly for the privacy guarantees of the trained model."
   ]
  },
  {
   "cell_type": "code",
   "execution_count": 21,
   "metadata": {},
   "outputs": [],
   "source": [
    "augment = True \n",
    "\n",
    "if augment : \n",
    "    augmentations = [\n",
    "        tf.image.flip_left_right,\n",
    "        tf.image.flip_up_down,\n",
    "    ]\n",
    "else : \n",
    "    augmentations = None \n",
    "    \n",
    "ds_train, ds_test, dataset_metadata = load_and_prepare_data(\n",
    "    \"cifar10\",\n",
    "    batch_size=2048,\n",
    "    colorspace=\"HSV\",\n",
    "    augmentations=augmentations,\n",
    "    drop_remainder=True,  # accounting assumes fixed batch size\n",
    "    bound_fct=bound_clip_value(\n",
    "        15.0\n",
    "    ),  # clipping preprocessing allows to control input bound\n",
    ")"
   ]
  },
  {
   "cell_type": "code",
   "execution_count": 22,
   "metadata": {},
   "outputs": [
    {
     "data": {
      "text/plain": [
       "2"
      ]
     },
     "execution_count": 22,
     "metadata": {},
     "output_type": "execute_result"
    }
   ],
   "source": [
    "dataset_metadata.nb_augmentations"
   ]
  },
  {
   "attachments": {},
   "cell_type": "markdown",
   "metadata": {},
   "source": [
    "Please pay attention to the fact that the effective batch size in memory will be batch_size $\\times$ len(augmentations).\n",
    "\n",
    "Fortunately, the backpropagation's computation time on our framework is less sensitive to the batch size than for other frameworks : \n",
    "\n",
    "<img src=\"ressources/all_speed_curves.png\" alt=\"Speed curves with concurrent frameworks\" width=\"800\"/>"
   ]
  },
  {
   "attachments": {},
   "cell_type": "markdown",
   "metadata": {},
   "source": [
    "### Declaring the DP parameters :\n",
    "\n",
    "We also need to declare explicitly the parameters of the DP training process."
   ]
  },
  {
   "cell_type": "code",
   "execution_count": 23,
   "metadata": {},
   "outputs": [],
   "source": [
    "dp_parameters = DPParameters(\n",
    "    noisify_strategy=\"global\",\n",
    "    noise_multiplier=1.0,\n",
    "    delta=1e-5,\n",
    ")"
   ]
  },
  {
   "attachments": {},
   "cell_type": "markdown",
   "metadata": {},
   "source": [
    "### Defining the model :\n",
    "\n",
    "We use a simple convolutive network to classify on the MNIST dataset. We add a loss gradient clipping layer at the end of our network for more tightness on our gradient's upper bound. Therefore allowing for better results with one less hyperparameter to tune for dynamically chosen clipping constant. "
   ]
  },
  {
   "cell_type": "code",
   "execution_count": 24,
   "metadata": {},
   "outputs": [],
   "source": [
    "if augment : \n",
    "    group_size = len(augmentations) + 1\n",
    "else : \n",
    "    group_size = 1\n",
    "\n",
    "layers = [\n",
    "    DP_layers.DP_BoundedInput(\n",
    "        input_shape=dataset_metadata.input_shape,\n",
    "        upper_bound=dataset_metadata.max_norm,\n",
    "    ),\n",
    "    DP_layers.DP_SpectralConv2D(\n",
    "        filters=32, kernel_size=3, use_bias=False, kernel_initializer=\"orthogonal\"\n",
    "    ),\n",
    "    DP_layers.DP_Flatten(),\n",
    "    DP_layers.DP_SpectralDense(\n",
    "        units=512, use_bias=False, kernel_initializer=\"orthogonal\"\n",
    "    ),\n",
    "    DP_layers.DP_GroupSort(2),\n",
    "    DP_layers.DP_SpectralDense(\n",
    "        units=10, use_bias=False, kernel_initializer=\"orthogonal\"\n",
    "    ),\n",
    "    DP_layers.DP_ClipGradient(\n",
    "        epsilon=1, mode=\"dynamic_svt\", patience=5, group_size=group_size+1,\n",
    "    )\n",
    "]\n",
    "\n",
    "model = DP_Sequential(\n",
    "    layers=layers, dp_parameters=dp_parameters, dataset_metadata=dataset_metadata\n",
    ")\n",
    "\n",
    "loss = DP_losses.DP_TauCategoricalCrossentropy(tau=20.0)\n",
    "\n",
    "# Compatible with any kind of non-private optimizer : \n",
    "opt = tf.keras.optimizers.SGD(learning_rate=1e-2)\n",
    "\n",
    "model.compile(\n",
    "    loss=loss,\n",
    "    optimizer=opt,\n",
    "    metrics=[\"accuracy\"],\n",
    "    run_eagerly=False,\n",
    ")"
   ]
  },
  {
   "cell_type": "code",
   "execution_count": null,
   "metadata": {},
   "outputs": [],
   "source": [
    "import matplotlib.pyplot as plt\n",
    "\n",
    "def plot_imgs(img1,img2, title=None):\n",
    "  plt.figure()\n",
    "  plt.subplot(121)\n",
    "  plt.imshow(img1)\n",
    "  plt.subplot(122)\n",
    "  plt.imshow(img2)\n",
    "  plt.title(title)"
   ]
  },
  {
   "cell_type": "code",
   "execution_count": null,
   "metadata": {},
   "outputs": [
    {
     "data": {
      "image/png": "[encoded data removed]",
      "text/plain": [
       "<Figure size 640x480 with 2 Axes>"
      ]
     },
     "metadata": {},
     "output_type": "display_data"
    }
   ],
   "source": [
    "iterator = iter(ds_train)\n",
    "imgs,labels = iterator.get_next()\n",
    "N_images = 3\n",
    "for N in range(1, N_images,2):\n",
    "  plot_imgs(imgs[N],imgs[N + 1])"
   ]
  },
  {
   "attachments": {},
   "cell_type": "markdown",
   "metadata": {},
   "source": [
    "### Define the desired DP guarantees :\n",
    "\n",
    "We compute the budget of epochs needed to yields the DP guarantees that you desire :"
   ]
  },
  {
   "cell_type": "code",
   "execution_count": null,
   "metadata": {},
   "outputs": [
    {
     "name": "stdout",
     "output_type": "stream",
     "text": [
      "epoch bounds = (0, 512.0) and epsilon = 119.24764619077938 at epoch 512.0\n",
      "epoch bounds = (0, 256.0) and epsilon = 65.38376084008976 at epoch 256.0\n",
      "epoch bounds = (0, 128.0) and epsilon = 37.42207695486333 at epoch 128.0\n",
      "epoch bounds = (0, 64.0) and epsilon = 22.4191073539189 at epoch 64.0\n",
      "epoch bounds = (0, 32.0) and epsilon = 13.667758618374233 at epoch 32.0\n",
      "epoch bounds = (0, 16.0) and epsilon = 8.74477520450819 at epoch 16.0\n",
      "epoch bounds = (8.0, 16.0) and epsilon = 5.55570807058713 at epoch 8.0\n",
      "epoch bounds = (12.0, 16.0) and epsilon = 7.150241634680869 at epoch 12.0\n",
      "epoch bounds = (14.0, 16.0) and epsilon = 7.499566792966371 at epoch 14.0\n",
      "epoch bounds = (14.0, 15.0) and epsilon = 8.57011263580801 at epoch 15.0\n"
     ]
    },
    {
     "name": "stderr",
     "output_type": "stream",
     "text": [
      "/home/thomas.massena/Code/DEBUG/dp-lipschitz/lipdp_dev_env/lib/python3.9/site-packages/scipy/optimize/_optimize.py:2769: RuntimeWarning: invalid value encountered in double_scalars\n",
      "  w = xb - ((xb - xc) * tmp2 - (xb - xa) * tmp1) / denom\n"
     ]
    }
   ],
   "source": [
    "num_epochs = get_max_epochs(8.0, model)"
   ]
  },
  {
   "attachments": {},
   "cell_type": "markdown",
   "metadata": {},
   "source": [
    "### Train the model : \n",
    "\n",
    "The training process is called through the model.fit attribute. We use the following callbacks : \n",
    "\n",
    "- **DP_Accountant** (log_fn) : accounts for the privacy guarantees after each epoch of training (*log_fn* makes it compatible with W&B logging).\n",
    "- **DP_AdaptiveGradientClipping** (ds_train, patience) : automatically updates the losses's gradient clipping constant every *patience* steps. \n"
   ]
  },
  {
   "cell_type": "code",
   "execution_count": null,
   "metadata": {},
   "outputs": [
    {
     "name": "stdout",
     "output_type": "stream",
     "text": [
      "On train begin : \n",
      "Initial value is now equal to lipschitz constant of loss:  tf.Tensor(1.4142135, shape=(), dtype=float32)\n",
      "Epoch 1/15\n"
     ]
    },
    {
     "name": "stderr",
     "output_type": "stream",
     "text": [
      "2023-07-06 12:05:11.800858: I tensorflow/stream_executor/cuda/cuda_blas.cc:1614] TensorFloat-32 will be used for the matrix multiplication. This will only be logged once.\n",
      "2023-07-06 12:05:12.223203: I tensorflow/stream_executor/cuda/cuda_dnn.cc:384] Loaded cuDNN version 8100\n"
     ]
    },
    {
     "name": "stdout",
     "output_type": "stream",
     "text": [
      "24/24 [==============================] - ETA: 0s - loss: 0.1280 - accuracy: 0.1732\n",
      " (2.2428887103238577, 1e-05)-DP guarantees for epoch 1 \n",
      "\n",
      "updated_clip_value :  1.1183470613360813\n",
      "24/24 [==============================] - 10s 287ms/step - loss: 0.1280 - accuracy: 0.1732 - val_loss: 0.1228 - val_accuracy: 0.1915\n",
      "Epoch 2/15\n",
      "24/24 [==============================] - ETA: 0s - loss: 0.1160 - accuracy: 0.2108\n",
      " (2.723865775233616, 1e-05)-DP guarantees for epoch 2 \n",
      "\n",
      "24/24 [==============================] - 6s 218ms/step - loss: 0.1160 - accuracy: 0.2108 - val_loss: 0.1126 - val_accuracy: 0.2360\n",
      "Epoch 3/15\n",
      "24/24 [==============================] - ETA: 0s - loss: 0.1117 - accuracy: 0.2353\n",
      " (3.0530029334114603, 1e-05)-DP guarantees for epoch 3 \n",
      "\n",
      "24/24 [==============================] - 6s 218ms/step - loss: 0.1117 - accuracy: 0.2353 - val_loss: 0.1097 - val_accuracy: 0.2661\n",
      "Epoch 4/15\n",
      "24/24 [==============================] - ETA: 0s - loss: 0.1093 - accuracy: 0.2510\n",
      " (3.3197611270015326, 1e-05)-DP guarantees for epoch 4 \n",
      "\n",
      "24/24 [==============================] - 6s 219ms/step - loss: 0.1093 - accuracy: 0.2510 - val_loss: 0.1054 - val_accuracy: 0.2710\n",
      "Epoch 5/15\n",
      "24/24 [==============================] - ETA: 0s - loss: 0.1074 - accuracy: 0.2579\n",
      " (4.508234758728505, 1e-05)-DP guarantees for epoch 5 \n",
      "\n",
      "24/24 [==============================] - 6s 219ms/step - loss: 0.1074 - accuracy: 0.2579 - val_loss: 0.1033 - val_accuracy: 0.2706\n",
      "Epoch 6/15\n",
      "24/24 [==============================] - ETA: 0s - loss: 0.1090 - accuracy: 0.2567\n",
      " (4.774992952173545, 1e-05)-DP guarantees for epoch 6 \n",
      "\n",
      "updated_clip_value :  1.1126845445698226\n",
      "24/24 [==============================] - 7s 276ms/step - loss: 0.1090 - accuracy: 0.2567 - val_loss: 0.1060 - val_accuracy: 0.2510\n",
      "Epoch 7/15\n",
      "24/24 [==============================] - ETA: 0s - loss: 0.1080 - accuracy: 0.2670\n",
      " (5.041751151526228, 1e-05)-DP guarantees for epoch 7 \n",
      "\n",
      "24/24 [==============================] - 6s 220ms/step - loss: 0.1080 - accuracy: 0.2670 - val_loss: 0.1055 - val_accuracy: 0.2736\n",
      "Epoch 8/15\n",
      "24/24 [==============================] - ETA: 0s - loss: 0.1049 - accuracy: 0.2779\n",
      " (5.30850934235078, 1e-05)-DP guarantees for epoch 8 \n",
      "\n",
      "24/24 [==============================] - 6s 220ms/step - loss: 0.1049 - accuracy: 0.2779 - val_loss: 0.1038 - val_accuracy: 0.2739\n",
      "Epoch 9/15\n",
      "24/24 [==============================] - ETA: 0s - loss: 0.1034 - accuracy: 0.2804\n",
      " (5.55570807058713, 1e-05)-DP guarantees for epoch 9 \n",
      "\n",
      "24/24 [==============================] - 6s 220ms/step - loss: 0.1034 - accuracy: 0.2804 - val_loss: 0.1026 - val_accuracy: 0.2794\n",
      "Epoch 10/15\n",
      "24/24 [==============================] - ETA: 0s - loss: 0.1042 - accuracy: 0.2794\n",
      " (6.626253911877027, 1e-05)-DP guarantees for epoch 10 \n",
      "\n",
      "24/24 [==============================] - 6s 220ms/step - loss: 0.1042 - accuracy: 0.2794 - val_loss: 0.1039 - val_accuracy: 0.2747\n",
      "Epoch 11/15\n",
      "24/24 [==============================] - ETA: 0s - loss: 0.1036 - accuracy: 0.2787\n",
      " (6.800916489534693, 1e-05)-DP guarantees for epoch 11 \n",
      "\n",
      "updated_clip_value :  1.0801250731638354\n",
      "24/24 [==============================] - 7s 275ms/step - loss: 0.1036 - accuracy: 0.2787 - val_loss: 0.0989 - val_accuracy: 0.3010\n",
      "Epoch 12/15\n",
      "24/24 [==============================] - ETA: 0s - loss: 0.1012 - accuracy: 0.2914\n",
      " (6.975579076666273, 1e-05)-DP guarantees for epoch 12 \n",
      "\n",
      "24/24 [==============================] - 6s 220ms/step - loss: 0.1012 - accuracy: 0.2914 - val_loss: 0.0967 - val_accuracy: 0.3313\n",
      "Epoch 13/15\n",
      "24/24 [==============================] - ETA: 0s - loss: 0.1008 - accuracy: 0.2945\n",
      " (7.150241634680869, 1e-05)-DP guarantees for epoch 13 \n",
      "\n",
      "24/24 [==============================] - 6s 220ms/step - loss: 0.1008 - accuracy: 0.2945 - val_loss: 0.0962 - val_accuracy: 0.3169\n",
      "Epoch 14/15\n",
      "24/24 [==============================] - ETA: 0s - loss: 0.1003 - accuracy: 0.2991\n",
      " (7.32490421160406, 1e-05)-DP guarantees for epoch 14 \n",
      "\n",
      "24/24 [==============================] - 6s 220ms/step - loss: 0.1003 - accuracy: 0.2991 - val_loss: 0.0954 - val_accuracy: 0.3199\n",
      "Epoch 15/15\n",
      "24/24 [==============================] - ETA: 0s - loss: 0.0985 - accuracy: 0.3060\n",
      " (8.395450047341093, 1e-05)-DP guarantees for epoch 15 \n",
      "\n",
      "24/24 [==============================] - 6s 220ms/step - loss: 0.0985 - accuracy: 0.3060 - val_loss: 0.0957 - val_accuracy: 0.3120\n"
     ]
    }
   ],
   "source": [
    "callbacks = [\n",
    "    DP_Accountant(log_fn=\"logging\"),\n",
    "    AdaptiveLossGradientClipping(\n",
    "        ds_train=ds_train\n",
    "    ),  # DO NOT USE THIS CALLBACK WHEN mode != \"dynamic_svt\"\n",
    "]\n",
    "\n",
    "hist = model.fit(\n",
    "    ds_train,\n",
    "    epochs=num_epochs,\n",
    "    validation_data=ds_test,\n",
    "    callbacks=callbacks,\n",
    ")"
   ]
  },
  {
   "attachments": {},
   "cell_type": "markdown",
   "metadata": {},
   "source": [
    "### "
   ]
  }
 ],
 "metadata": {
  "kernelspec": {
   "display_name": "lipdp_dev_env",
   "language": "python",
   "name": "python3"
  },
  "language_info": {
   "codemirror_mode": {
    "name": "ipython",
    "version": 3
   },
   "file_extension": ".py",
   "mimetype": "text/x-python",
   "name": "python",
   "nbconvert_exporter": "python",
   "pygments_lexer": "ipython3",
   "version": "3.9.5"
  },
  "orig_nbformat": 4
 },
 "nbformat": 4,
 "nbformat_minor": 2
}
