{
 "cells": [
  {
   "attachments": {},
   "cell_type": "markdown",
   "metadata": {},
   "source": [
    "# MNIST CLASSIFICATION"
   ]
  },
  {
   "attachments": {},
   "cell_type": "markdown",
   "metadata": {},
   "source": [
    "In this tutorial we train a lightweight differentially private model on the MNIST classification task, we also plot the yielded compromise between privacy and utility."
   ]
  },
  {
   "attachments": {},
   "cell_type": "markdown",
   "metadata": {},
   "source": [
    "### Imports"
   ]
  },
  {
   "cell_type": "code",
   "execution_count": 74,
   "metadata": {},
   "outputs": [],
   "source": [
    "import tensorflow as tf\n",
    "\n",
    "import deel.lipdp.layers as DP_layers\n",
    "import deel.lipdp.losses as DP_losses\n",
    "from deel.lipdp.pipeline import bound_clip_value\n",
    "from deel.lipdp.pipeline import load_and_prepare_data\n",
    "from deel.lipdp.sensitivity import get_max_epochs\n",
    "from deel.lipdp.model import DP_Accountant\n",
    "from deel.lipdp.model import DP_Sequential\n",
    "from deel.lipdp.model import DPParameters\n",
    "from deel.lipdp.model import AdaptiveLossGradientClipping"
   ]
  },
  {
   "attachments": {},
   "cell_type": "markdown",
   "metadata": {},
   "source": [
    "### Loading the data :\n",
    "\n",
    "It is important to import the data with the right DP parameters to account properly for the privacy guarantees of the trained model."
   ]
  },
  {
   "cell_type": "code",
   "execution_count": 75,
   "metadata": {},
   "outputs": [],
   "source": [
    "ds_train, ds_test, dataset_metadata = load_and_prepare_data(\n",
    "    \"mnist\",\n",
    "    batch_size=2048,\n",
    "    drop_remainder=True,  # accounting assumes fixed batch size\n",
    "    bound_fct=bound_clip_value(\n",
    "        10.0\n",
    "    ),  # clipping preprocessing allows to control input bound\n",
    ")"
   ]
  },
  {
   "attachments": {},
   "cell_type": "markdown",
   "metadata": {},
   "source": [
    "### Declaring the DP parameters :\n",
    "\n",
    "We also need to declare explicitly the parameters of the DP training process."
   ]
  },
  {
   "cell_type": "code",
   "execution_count": 76,
   "metadata": {},
   "outputs": [],
   "source": [
    "delta = 1e-5 # Inferior to 1 / N_samples\n",
    "dp_parameters = DPParameters(\n",
    "    noisify_strategy=\"local\",\n",
    "    noise_multiplier=2.5,\n",
    "    delta=delta,\n",
    ")"
   ]
  },
  {
   "attachments": {},
   "cell_type": "markdown",
   "metadata": {},
   "source": [
    "### Defining the model :\n",
    "\n",
    "We use a simple convolutive network to classify on the MNIST dataset. We add a loss gradient clipping layer at the end of our network for more tightness on our gradient's upper bound. Therefore allowing for better results with one less hyperparameter to tune for dynamically chosen clipping constant. "
   ]
  },
  {
   "cell_type": "code",
   "execution_count": 77,
   "metadata": {},
   "outputs": [
    {
     "name": "stderr",
     "output_type": "stream",
     "text": [
      "/home/thomas.massena/Code/DEBUG/dp-lipschitz/lipdp_dev_env/lib/python3.9/site-packages/deel/lip/model.py:74: UserWarning: Sequential model contains a layer which is not a 1-Lipschitz layer: dp__bounded_input_8\n",
      "  warn(_msg_not_lip.format(layer.name))\n"
     ]
    }
   ],
   "source": [
    "layers = [\n",
    "    DP_layers.DP_BoundedInput(\n",
    "        input_shape=dataset_metadata.input_shape,\n",
    "        upper_bound=dataset_metadata.max_norm,\n",
    "    ),\n",
    "    DP_layers.DP_SpectralConv2D(filters=32, kernel_size=3, nm_coef=0.8),\n",
    "    DP_layers.DP_Flatten(),\n",
    "    DP_layers.DP_SpectralDense(units=10, nm_coef=1.2),\n",
    "]\n",
    "\n",
    "model = DP_Sequential(\n",
    "    layers=layers, dp_parameters=dp_parameters, dataset_metadata=dataset_metadata\n",
    ")\n",
    "\n",
    "loss = DP_losses.DP_TauCategoricalCrossentropy(tau=14.0)\n",
    "\n",
    "# Compatible with any kind of non-private optimizer : \n",
    "opt = tf.keras.optimizers.SGD(learning_rate=5e-3)\n",
    "\n",
    "model.compile(\n",
    "    loss=loss,\n",
    "    optimizer=opt,\n",
    "    metrics=[\"accuracy\"],\n",
    "    run_eagerly=False,\n",
    ")"
   ]
  },
  {
   "attachments": {},
   "cell_type": "markdown",
   "metadata": {},
   "source": [
    "### Define the desired DP guarantees :\n",
    "\n",
    "We compute the budget of epochs needed to yields the DP guarantees that you desire :"
   ]
  },
  {
   "cell_type": "code",
   "execution_count": 78,
   "metadata": {},
   "outputs": [
    {
     "name": "stdout",
     "output_type": "stream",
     "text": [
      "epoch bounds = (0, 512.0) and epsilon = 19.666502339255697 at epoch 512.0\n",
      "epoch bounds = (0, 256.0) and epsilon = 12.2485850660256 at epoch 256.0\n",
      "epoch bounds = (0, 128.0) and epsilon = 8.186325570328446 at epoch 128.0\n",
      "epoch bounds = (0, 64.0) and epsilon = 5.54143286741815 at epoch 64.0\n",
      "epoch bounds = (0, 32.0) and epsilon = 3.8164320198250277 at epoch 32.0\n",
      "epoch bounds = (16.0, 32.0) and epsilon = 2.7049566018241964 at epoch 16.0\n",
      "epoch bounds = (16.0, 24.0) and epsilon = 3.305133133526791 at epoch 24.0\n",
      "epoch bounds = (16.0, 20.0) and epsilon = 3.0067681334298717 at epoch 20.0\n",
      "epoch bounds = (18.0, 20.0) and epsilon = 2.8575856325289397 at epoch 18.0\n",
      "epoch bounds = (19.0, 20.0) and epsilon = 2.932176881629746 at epoch 19.0\n"
     ]
    }
   ],
   "source": [
    "num_epochs = get_max_epochs(3.0, model)"
   ]
  },
  {
   "attachments": {},
   "cell_type": "markdown",
   "metadata": {},
   "source": [
    "### Train the model : \n",
    "\n",
    "The training process is called through the model.fit attribute. We use the following callbacks : \n",
    "\n",
    "- **DP_Accountant** (log_fn) : accounts for the privacy guarantees after each epoch of training (*log_fn* makes it compatible with W&B logging).\n",
    "- **DP_AdaptiveGradientClipping** (ds_train, patience) : automatically updates the losses's gradient clipping constant every *patience* steps. \n"
   ]
  },
  {
   "cell_type": "code",
   "execution_count": 79,
   "metadata": {},
   "outputs": [
    {
     "name": "stdout",
     "output_type": "stream",
     "text": [
      "Epoch 1/19\n"
     ]
    },
    {
     "name": "stdout",
     "output_type": "stream",
     "text": [
      "25/29 [========================>.....] - ETA: 0s - loss: 0.1297 - accuracy: 0.4168\n",
      " (0.8155744015343591, 1e-05)-DP guarantees for epoch 1 \n",
      "\n",
      "29/29 [==============================] - 2s 17ms/step - loss: 0.1247 - accuracy: 0.4503 - val_loss: 0.0905 - val_accuracy: 0.6804 - epsilon: 0.8156\n",
      "Epoch 2/19\n",
      "25/29 [========================>.....] - ETA: 0s - loss: 0.0780 - accuracy: 0.7387\n",
      " (1.0133824304658074, 1e-05)-DP guarantees for epoch 2 \n",
      "\n",
      "29/29 [==============================] - 1s 11ms/step - loss: 0.0766 - accuracy: 0.7443 - val_loss: 0.0652 - val_accuracy: 0.7906 - epsilon: 1.0134\n",
      "Epoch 3/19\n",
      "25/29 [========================>.....] - ETA: 0s - loss: 0.0613 - accuracy: 0.7980\n",
      " (1.1872626615425608, 1e-05)-DP guarantees for epoch 3 \n",
      "\n",
      "29/29 [==============================] - 1s 12ms/step - loss: 0.0607 - accuracy: 0.8008 - val_loss: 0.0548 - val_accuracy: 0.8252 - epsilon: 1.1873\n",
      "Epoch 4/19\n",
      "25/29 [========================>.....] - ETA: 0s - loss: 0.0530 - accuracy: 0.8230\n",
      " (1.3410978829897524, 1e-05)-DP guarantees for epoch 4 \n",
      "\n",
      "29/29 [==============================] - 1s 12ms/step - loss: 0.0527 - accuracy: 0.8235 - val_loss: 0.0485 - val_accuracy: 0.8357 - epsilon: 1.3411\n",
      "Epoch 5/19\n",
      "25/29 [========================>.....] - ETA: 0s - loss: 0.0481 - accuracy: 0.8364\n",
      " (1.4829288251019426, 1e-05)-DP guarantees for epoch 5 \n",
      "\n",
      "29/29 [==============================] - 1s 11ms/step - loss: 0.0479 - accuracy: 0.8361 - val_loss: 0.0449 - val_accuracy: 0.8475 - epsilon: 1.4829\n",
      "Epoch 6/19\n",
      "25/29 [========================>.....] - ETA: 0s - loss: 0.0449 - accuracy: 0.8451\n",
      " (1.6162760206383275, 1e-05)-DP guarantees for epoch 6 \n",
      "\n",
      "29/29 [==============================] - 1s 12ms/step - loss: 0.0448 - accuracy: 0.8452 - val_loss: 0.0417 - val_accuracy: 0.8571 - epsilon: 1.6163\n",
      "Epoch 7/19\n",
      "25/29 [========================>.....] - ETA: 0s - loss: 0.0423 - accuracy: 0.8517\n",
      " (1.7358011312891797, 1e-05)-DP guarantees for epoch 7 \n",
      "\n",
      "29/29 [==============================] - 1s 11ms/step - loss: 0.0422 - accuracy: 0.8511 - val_loss: 0.0397 - val_accuracy: 0.8594 - epsilon: 1.7358\n",
      "Epoch 8/19\n",
      "25/29 [========================>.....] - ETA: 0s - loss: 0.0405 - accuracy: 0.8555\n",
      " (1.8526283446058953, 1e-05)-DP guarantees for epoch 8 \n",
      "\n",
      "29/29 [==============================] - 1s 12ms/step - loss: 0.0403 - accuracy: 0.8558 - val_loss: 0.0380 - val_accuracy: 0.8665 - epsilon: 1.8526\n",
      "Epoch 9/19\n",
      "25/29 [========================>.....] - ETA: 0s - loss: 0.0390 - accuracy: 0.8596\n",
      " (1.9620813174159681, 1e-05)-DP guarantees for epoch 9 \n",
      "\n",
      "29/29 [==============================] - 1s 11ms/step - loss: 0.0389 - accuracy: 0.8599 - val_loss: 0.0360 - val_accuracy: 0.8739 - epsilon: 1.9621\n",
      "Epoch 10/19\n",
      "25/29 [========================>.....] - ETA: 0s - loss: 0.0379 - accuracy: 0.8620\n",
      " (2.0637926226770054, 1e-05)-DP guarantees for epoch 10 \n",
      "\n",
      "29/29 [==============================] - 1s 11ms/step - loss: 0.0376 - accuracy: 0.8634 - val_loss: 0.0354 - val_accuracy: 0.8741 - epsilon: 2.0638\n",
      "Epoch 11/19\n",
      "25/29 [========================>.....] - ETA: 0s - loss: 0.0368 - accuracy: 0.8654\n",
      " (2.165503927551046, 1e-05)-DP guarantees for epoch 11 \n",
      "\n",
      "29/29 [==============================] - 1s 12ms/step - loss: 0.0367 - accuracy: 0.8665 - val_loss: 0.0350 - val_accuracy: 0.8754 - epsilon: 2.1655\n",
      "Epoch 12/19\n",
      "25/29 [========================>.....] - ETA: 0s - loss: 0.0358 - accuracy: 0.8694\n",
      " (2.2664517969028735, 1e-05)-DP guarantees for epoch 12 \n",
      "\n",
      "29/29 [==============================] - 1s 11ms/step - loss: 0.0358 - accuracy: 0.8692 - val_loss: 0.0338 - val_accuracy: 0.8790 - epsilon: 2.2665\n",
      "Epoch 13/19\n",
      "25/29 [========================>.....] - ETA: 0s - loss: 0.0353 - accuracy: 0.8696\n",
      " (2.354168971177506, 1e-05)-DP guarantees for epoch 13 \n",
      "\n",
      "29/29 [==============================] - 1s 11ms/step - loss: 0.0351 - accuracy: 0.8708 - val_loss: 0.0337 - val_accuracy: 0.8763 - epsilon: 2.3542\n",
      "Epoch 14/19\n",
      "25/29 [========================>.....] - ETA: 0s - loss: 0.0346 - accuracy: 0.8717\n",
      " (2.441865878657379, 1e-05)-DP guarantees for epoch 14 \n",
      "\n",
      "29/29 [==============================] - 1s 11ms/step - loss: 0.0346 - accuracy: 0.8716 - val_loss: 0.0329 - val_accuracy: 0.8815 - epsilon: 2.4419\n",
      "Epoch 15/19\n",
      "25/29 [========================>.....] - ETA: 0s - loss: 0.0341 - accuracy: 0.8738\n",
      " (2.529562787108425, 1e-05)-DP guarantees for epoch 15 \n",
      "\n",
      "29/29 [==============================] - 1s 11ms/step - loss: 0.0340 - accuracy: 0.8741 - val_loss: 0.0325 - val_accuracy: 0.8824 - epsilon: 2.5296\n",
      "Epoch 16/19\n",
      "25/29 [========================>.....] - ETA: 0s - loss: 0.0334 - accuracy: 0.8764\n",
      " (2.6172596939212447, 1e-05)-DP guarantees for epoch 16 \n",
      "\n",
      "29/29 [==============================] - 1s 11ms/step - loss: 0.0336 - accuracy: 0.8760 - val_loss: 0.0318 - val_accuracy: 0.8843 - epsilon: 2.6173\n",
      "Epoch 17/19\n",
      "25/29 [========================>.....] - ETA: 0s - loss: 0.0333 - accuracy: 0.8766\n",
      " (2.7049566018241964, 1e-05)-DP guarantees for epoch 17 \n",
      "\n",
      "29/29 [==============================] - 1s 11ms/step - loss: 0.0332 - accuracy: 0.8769 - val_loss: 0.0311 - val_accuracy: 0.8860 - epsilon: 2.7050\n",
      "Epoch 18/19\n",
      "25/29 [========================>.....] - ETA: 0s - loss: 0.0329 - accuracy: 0.8776\n",
      " (2.7829943801869614, 1e-05)-DP guarantees for epoch 18 \n",
      "\n",
      "29/29 [==============================] - 1s 12ms/step - loss: 0.0328 - accuracy: 0.8774 - val_loss: 0.0310 - val_accuracy: 0.8859 - epsilon: 2.7830\n",
      "Epoch 19/19\n",
      "25/29 [========================>.....] - ETA: 0s - loss: 0.0326 - accuracy: 0.8777\n",
      " (2.8575856325289397, 1e-05)-DP guarantees for epoch 19 \n",
      "\n",
      "29/29 [==============================] - 1s 11ms/step - loss: 0.0325 - accuracy: 0.8781 - val_loss: 0.0301 - val_accuracy: 0.8911 - epsilon: 2.8576\n"
     ]
    }
   ],
   "source": [
    "callbacks = [\n",
    "    DP_Accountant(log_fn=\"logging\"),\n",
    "]\n",
    "\n",
    "hist = model.fit(\n",
    "    ds_train,\n",
    "    epochs=num_epochs,\n",
    "    validation_data=ds_test,\n",
    "    callbacks=callbacks,\n",
    ")"
   ]
  },
  {
   "attachments": {},
   "cell_type": "markdown",
   "metadata": {},
   "source": [
    "### "
   ]
  },
  {
   "cell_type": "code",
   "execution_count": 80,
   "metadata": {},
   "outputs": [
    {
     "data": {
      "text/plain": [
       "Text(0.5, 1.0, 'Utility / Privacy Pareto front')"
      ]
     },
     "execution_count": 80,
     "metadata": {},
     "output_type": "execute_result"
    },
    {
     "data": {
      "image/png": "[encoded data removed]",
      "text/plain": [
       "<Figure size 640x480 with 1 Axes>"
      ]
     },
     "metadata": {},
     "output_type": "display_data"
    }
   ],
   "source": [
    "import matplotlib.pyplot as plt\n",
    "import numpy as np \n",
    "\n",
    "plt.figure()\n",
    "\n",
    "plt.plot(hist.history['epsilon'], hist.history['val_accuracy'], 'b+')\n",
    "\n",
    "plt.xlabel(f'Epsilon value for delta = {delta}')\n",
    "plt.ylabel('Validation accuracy')\n",
    "\n",
    "plt.xticks(np.linspace(0,1,10))\n",
    "plt.xticks(np.linspace(0.5,3.0,6))\n",
    "\n",
    "plt.xlim(left=0.5); plt.grid(axis = 'y')\n",
    "\n",
    "plt.title(\"Utility / Privacy Pareto front\")"
   ]
  }
 ],
 "metadata": {
  "kernelspec": {
   "display_name": "lipdp_dev_env",
   "language": "python",
   "name": "python3"
  },
  "language_info": {
   "codemirror_mode": {
    "name": "ipython",
    "version": 3
   },
   "file_extension": ".py",
   "mimetype": "text/x-python",
   "name": "python",
   "nbconvert_exporter": "python",
   "pygments_lexer": "ipython3",
   "version": "3.9.5"
  },
  "orig_nbformat": 4
 },
 "nbformat": 4,
 "nbformat_minor": 2
}
