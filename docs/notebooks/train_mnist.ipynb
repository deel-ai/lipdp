{
 "cells": [
  {
   "attachments": {},
   "cell_type": "markdown",
   "metadata": {},
   "source": [
    "# MNIST CLASSIFICATION"
   ]
  },
  {
   "attachments": {},
   "cell_type": "markdown",
   "metadata": {},
   "source": [
    "### Imports"
   ]
  },
  {
   "cell_type": "code",
   "execution_count": 7,
   "metadata": {},
   "outputs": [],
   "source": [
    "import tensorflow as tf\n",
    "\n",
    "import deel.lipdp.layers as DP_layers\n",
    "import deel.lipdp.losses as DP_losses\n",
    "from deel.lipdp.pipeline import bound_clip_value\n",
    "from deel.lipdp.pipeline import load_and_prepare_data\n",
    "from deel.lipdp.sensitivity import get_max_epochs\n",
    "from deel.lipdp.model import DP_Accountant\n",
    "from deel.lipdp.model import DP_Sequential\n",
    "from deel.lipdp.model import DPParameters\n",
    "from deel.lipdp.model import AdaptiveLossGradientClipping"
   ]
  },
  {
   "attachments": {},
   "cell_type": "markdown",
   "metadata": {},
   "source": [
    "### Loading the data :\n",
    "\n",
    "It is important to import the data with the right DP parameters to account properly for the privacy guarantees of the trained model."
   ]
  },
  {
   "cell_type": "code",
   "execution_count": 8,
   "metadata": {},
   "outputs": [],
   "source": [
    "ds_train, ds_test, dataset_metadata = load_and_prepare_data(\n",
    "    \"mnist\",\n",
    "    batch_size=2048,\n",
    "    drop_remainder=True,  # accounting assumes fixed batch size\n",
    "    bound_fct=bound_clip_value(\n",
    "        10.0\n",
    "    ),  # clipping preprocessing allows to control input bound\n",
    ")"
   ]
  },
  {
   "attachments": {},
   "cell_type": "markdown",
   "metadata": {},
   "source": [
    "### Declaring the DP parameters :\n",
    "\n",
    "We also need to declare explicitly the parameters of the DP training process."
   ]
  },
  {
   "cell_type": "code",
   "execution_count": 9,
   "metadata": {},
   "outputs": [],
   "source": [
    "dp_parameters = DPParameters(\n",
    "    noisify_strategy=\"global\",\n",
    "    noise_multiplier=1.5,\n",
    "    delta=1e-5,\n",
    ")"
   ]
  },
  {
   "attachments": {},
   "cell_type": "markdown",
   "metadata": {},
   "source": [
    "### Defining the model :\n",
    "\n",
    "We use a simple convolutive network to classify on the MNIST dataset. We add a loss gradient clipping layer at the end of our network for more tightness on our gradient's upper bound. Therefore allowing for better results with one less hyperparameter to tune for dynamically chosen clipping constant. "
   ]
  },
  {
   "cell_type": "code",
   "execution_count": 13,
   "metadata": {},
   "outputs": [
    {
     "name": "stderr",
     "output_type": "stream",
     "text": [
      "/home/thomas.massena/Code/DEBUG/dp-lipschitz/lipdp_dev_env/lib/python3.9/site-packages/keras/initializers/initializers_v2.py:120: UserWarning: The initializer Orthogonal is unseeded and being called multiple times, which will return identical values  each time (even if the initializer is unseeded). Please update your code to provide a seed to the initializer, or avoid using the same initalizer instance more than once.\n",
      "  warnings.warn(\n",
      "/home/thomas.massena/Code/DEBUG/dp-lipschitz/lipdp_dev_env/lib/python3.9/site-packages/deel/lip/model.py:74: UserWarning: Sequential model contains a layer which is not a 1-Lipschitz layer: dp__bounded_input_2\n",
      "  warn(_msg_not_lip.format(layer.name))\n",
      "/home/thomas.massena/Code/DEBUG/dp-lipschitz/lipdp_dev_env/lib/python3.9/site-packages/deel/lip/model.py:74: UserWarning: Sequential model contains a layer which is not a 1-Lipschitz layer: dp__clip_gradient_2\n",
      "  warn(_msg_not_lip.format(layer.name))\n"
     ]
    }
   ],
   "source": [
    "layers = [\n",
    "    DP_layers.DP_BoundedInput(\n",
    "        input_shape=dataset_metadata.input_shape,\n",
    "        upper_bound=dataset_metadata.max_norm,\n",
    "    ),\n",
    "    DP_layers.DP_SpectralConv2D(filters=16, kernel_size=5),\n",
    "    DP_layers.DP_Flatten(),\n",
    "    DP_layers.DP_SpectralDense(units=10),\n",
    "    DP_layers.DP_ClipGradient(\n",
    "        epsilon=1, mode=\"dynamic_svt\", patience=10\n",
    "    )\n",
    "]\n",
    "\n",
    "model = DP_Sequential(\n",
    "    layers=layers, dp_parameters=dp_parameters, dataset_metadata=dataset_metadata\n",
    ")\n",
    "\n",
    "loss = DP_losses.DP_TauCategoricalCrossentropy(tau=14.0)\n",
    "\n",
    "# Compatible with any kind of non-private optimizer : \n",
    "opt = tf.keras.optimizers.SGD(learning_rate=1e-2)\n",
    "\n",
    "model.compile(\n",
    "    loss=loss,\n",
    "    optimizer=opt,\n",
    "    metrics=[\"accuracy\"],\n",
    "    run_eagerly=False,\n",
    ")"
   ]
  },
  {
   "attachments": {},
   "cell_type": "markdown",
   "metadata": {},
   "source": [
    "### Define the desired DP guarantees :\n",
    "\n",
    "We compute the budget of epochs needed to yields the DP guarantees that you desire :"
   ]
  },
  {
   "cell_type": "code",
   "execution_count": 11,
   "metadata": {},
   "outputs": [
    {
     "name": "stdout",
     "output_type": "stream",
     "text": [
      "epoch bounds = (0, 512.0) and epsilon = 57.32501154010554 at epoch 512.0\n",
      "epoch bounds = (0, 256.0) and epsilon = 33.19136621177765 at epoch 256.0\n",
      "epoch bounds = (0, 128.0) and epsilon = 18.700348347170372 at epoch 128.0\n",
      "epoch bounds = (0, 64.0) and epsilon = 11.0321546467658 at epoch 64.0\n",
      "epoch bounds = (0, 32.0) and epsilon = 6.628485024640014 at epoch 32.0\n",
      "epoch bounds = (0, 16.0) and epsilon = 3.656193225171896 at epoch 16.0\n"
     ]
    },
    {
     "name": "stderr",
     "output_type": "stream",
     "text": [
      "/home/thomas.massena/Code/DEBUG/dp-lipschitz/lipdp_dev_env/lib/python3.9/site-packages/scipy/optimize/_optimize.py:2769: RuntimeWarning: invalid value encountered in double_scalars\n",
      "  w = xb - ((xb - xc) * tmp2 - (xb - xa) * tmp1) / denom\n"
     ]
    },
    {
     "name": "stdout",
     "output_type": "stream",
     "text": [
      "epoch bounds = (8.0, 16.0) and epsilon = 1.9620813174159681 at epoch 8.0\n",
      "epoch bounds = (8.0, 12.0) and epsilon = 3.309417344453968 at epoch 12.0\n",
      "epoch bounds = (8.0, 10.0) and epsilon = 3.1263462214167053 at epoch 10.0\n",
      "epoch bounds = (9.0, 10.0) and epsilon = 2.0637926226770054 at epoch 9.0\n"
     ]
    }
   ],
   "source": [
    "num_epochs = get_max_epochs(3.0, model)"
   ]
  },
  {
   "attachments": {},
   "cell_type": "markdown",
   "metadata": {},
   "source": [
    "### Train the model : \n",
    "\n",
    "The training process is called through the model.fit attribute. We use the following callbacks : \n",
    "\n",
    "- **DP_Accountant** (log_fn) : accounts for the privacy guarantees after each epoch of training (*log_fn* makes it compatible with W&B logging).\n",
    "- **DP_AdaptiveGradientClipping** (ds_train, patience) : automatically updates the losses's gradient clipping constant every *patience* steps. \n"
   ]
  },
  {
   "cell_type": "code",
   "execution_count": 12,
   "metadata": {},
   "outputs": [
    {
     "name": "stdout",
     "output_type": "stream",
     "text": [
      "On train begin : \n",
      "Initial value is now equal to lipschitz constant of loss:  tf.Tensor(1.4142135, shape=(), dtype=float32)\n",
      "Epoch 1/9\n"
     ]
    },
    {
     "name": "stdout",
     "output_type": "stream",
     "text": [
      "24/29 [=======================>......] - ETA: 0s - loss: 0.1246 - accuracy: 0.4337\n",
      " (0.8155744015343591, 1e-05)-DP guarantees for epoch 1 \n",
      "\n",
      "updated_clip_value :  0.961212221072404\n",
      "29/29 [==============================] - 3s 57ms/step - loss: 0.1175 - accuracy: 0.4803 - val_loss: 0.0794 - val_accuracy: 0.7308\n",
      "Epoch 2/9\n",
      "25/29 [========================>.....] - ETA: 0s - loss: 0.0676 - accuracy: 0.7685\n",
      " (1.0133824304658074, 1e-05)-DP guarantees for epoch 2 \n",
      "\n",
      "29/29 [==============================] - 1s 14ms/step - loss: 0.0661 - accuracy: 0.7734 - val_loss: 0.0544 - val_accuracy: 0.8221\n",
      "Epoch 3/9\n",
      "24/29 [=======================>......] - ETA: 0s - loss: 0.0517 - accuracy: 0.8206\n",
      " (1.1872626615425608, 1e-05)-DP guarantees for epoch 3 \n",
      "\n",
      "29/29 [==============================] - 1s 14ms/step - loss: 0.0509 - accuracy: 0.8224 - val_loss: 0.0450 - val_accuracy: 0.8485\n",
      "Epoch 4/9\n",
      "27/29 [==========================>...] - ETA: 0s - loss: 0.0441 - accuracy: 0.8422\n",
      " (1.3410978829897524, 1e-05)-DP guarantees for epoch 4 \n",
      "\n",
      "29/29 [==============================] - 1s 13ms/step - loss: 0.0440 - accuracy: 0.8421 - val_loss: 0.0397 - val_accuracy: 0.8610\n",
      "Epoch 5/9\n",
      "25/29 [========================>.....] - ETA: 0s - loss: 0.0401 - accuracy: 0.8544\n",
      " (1.4829288251019426, 1e-05)-DP guarantees for epoch 5 \n",
      "\n",
      "29/29 [==============================] - 1s 14ms/step - loss: 0.0400 - accuracy: 0.8539 - val_loss: 0.0365 - val_accuracy: 0.8690\n",
      "Epoch 6/9\n",
      "25/29 [========================>.....] - ETA: 0s - loss: 0.0375 - accuracy: 0.8604\n",
      " (1.6162760206383275, 1e-05)-DP guarantees for epoch 6 \n",
      "\n",
      "29/29 [==============================] - 1s 14ms/step - loss: 0.0373 - accuracy: 0.8611 - val_loss: 0.0348 - val_accuracy: 0.8740\n",
      "Epoch 7/9\n",
      "24/29 [=======================>......] - ETA: 0s - loss: 0.0356 - accuracy: 0.8658\n",
      " (1.7358011312891797, 1e-05)-DP guarantees for epoch 7 \n",
      "\n",
      "29/29 [==============================] - 1s 14ms/step - loss: 0.0355 - accuracy: 0.8669 - val_loss: 0.0328 - val_accuracy: 0.8816\n",
      "Epoch 8/9\n",
      "27/29 [==========================>...] - ETA: 0s - loss: 0.0341 - accuracy: 0.8711\n",
      " (1.8526283446058953, 1e-05)-DP guarantees for epoch 8 \n",
      "\n",
      "29/29 [==============================] - 1s 13ms/step - loss: 0.0340 - accuracy: 0.8715 - val_loss: 0.0316 - val_accuracy: 0.8845\n",
      "Epoch 9/9\n",
      "27/29 [==========================>...] - ETA: 0s - loss: 0.0329 - accuracy: 0.8749\n",
      " (1.9620813174159681, 1e-05)-DP guarantees for epoch 9 \n",
      "\n",
      "29/29 [==============================] - 1s 13ms/step - loss: 0.0329 - accuracy: 0.8746 - val_loss: 0.0314 - val_accuracy: 0.8817\n"
     ]
    }
   ],
   "source": [
    "callbacks = [\n",
    "    DP_Accountant(log_fn=\"logging\"),\n",
    "    AdaptiveLossGradientClipping(\n",
    "        ds_train=ds_train\n",
    "    ),  # DO NOT USE THIS CALLBACK WHEN mode != \"dynamic_svt\"\n",
    "]\n",
    "\n",
    "hist = model.fit(\n",
    "    ds_train,\n",
    "    epochs=num_epochs,\n",
    "    validation_data=ds_test,\n",
    "    callbacks=callbacks,\n",
    ")"
   ]
  },
  {
   "attachments": {},
   "cell_type": "markdown",
   "metadata": {},
   "source": [
    "### "
   ]
  }
 ],
 "metadata": {
  "kernelspec": {
   "display_name": "lipdp_dev_env",
   "language": "python",
   "name": "python3"
  },
  "language_info": {
   "codemirror_mode": {
    "name": "ipython",
    "version": 3
   },
   "file_extension": ".py",
   "mimetype": "text/x-python",
   "name": "python",
   "nbconvert_exporter": "python",
   "pygments_lexer": "ipython3",
   "version": "3.9.12"
  },
  "orig_nbformat": 4
 },
 "nbformat": 4,
 "nbformat_minor": 2
}
